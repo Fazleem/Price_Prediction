{
 "cells": [
  {
   "cell_type": "code",
   "execution_count": 1,
   "metadata": {},
   "outputs": [],
   "source": [
    "import pandas as pd\n",
    "import numpy as np"
   ]
  },
  {
   "cell_type": "code",
   "execution_count": 15,
   "metadata": {},
   "outputs": [
    {
     "data": {
      "text/plain": [
       "array(['Date', 'Open', 'High', 'Low', 'Close', 'Adj Close', 'Volume'],\n",
       "      dtype=object)"
      ]
     },
     "execution_count": 15,
     "metadata": {},
     "output_type": "execute_result"
    }
   ],
   "source": [
    "df = pd.read_csv(\"../data/raw/BTC-USD.csv\")\n",
    "columns = df.columns.values\n",
    "columns"
   ]
  },
  {
   "cell_type": "code",
   "execution_count": 12,
   "metadata": {},
   "outputs": [],
   "source": [
    "dev_data = np.load(\"../data/interim/dev_data.npy\", allow_pickle=True)"
   ]
  },
  {
   "cell_type": "code",
   "execution_count": 16,
   "metadata": {},
   "outputs": [],
   "source": [
    "dev_df = pd.DataFrame(dev_data, columns=columns)"
   ]
  },
  {
   "cell_type": "code",
   "execution_count": 17,
   "metadata": {},
   "outputs": [
    {
     "data": {
      "text/html": [
       "<div>\n",
       "<style scoped>\n",
       "    .dataframe tbody tr th:only-of-type {\n",
       "        vertical-align: middle;\n",
       "    }\n",
       "\n",
       "    .dataframe tbody tr th {\n",
       "        vertical-align: top;\n",
       "    }\n",
       "\n",
       "    .dataframe thead th {\n",
       "        text-align: right;\n",
       "    }\n",
       "</style>\n",
       "<table border=\"1\" class=\"dataframe\">\n",
       "  <thead>\n",
       "    <tr style=\"text-align: right;\">\n",
       "      <th></th>\n",
       "      <th>Date</th>\n",
       "      <th>Open</th>\n",
       "      <th>High</th>\n",
       "      <th>Low</th>\n",
       "      <th>Close</th>\n",
       "      <th>Adj Close</th>\n",
       "      <th>Volume</th>\n",
       "    </tr>\n",
       "  </thead>\n",
       "  <tbody>\n",
       "    <tr>\n",
       "      <th>0</th>\n",
       "      <td>2016-10-27</td>\n",
       "      <td>678.214</td>\n",
       "      <td>688.594</td>\n",
       "      <td>678.04</td>\n",
       "      <td>688.313</td>\n",
       "      <td>688.313</td>\n",
       "      <td>9.61053e+07</td>\n",
       "    </tr>\n",
       "    <tr>\n",
       "      <th>1</th>\n",
       "      <td>2016-07-07</td>\n",
       "      <td>678.09</td>\n",
       "      <td>682.432</td>\n",
       "      <td>611.834</td>\n",
       "      <td>640.562</td>\n",
       "      <td>640.562</td>\n",
       "      <td>2.58091e+08</td>\n",
       "    </tr>\n",
       "    <tr>\n",
       "      <th>2</th>\n",
       "      <td>2018-08-28</td>\n",
       "      <td>6891.08</td>\n",
       "      <td>7109.56</td>\n",
       "      <td>6882.34</td>\n",
       "      <td>7096.28</td>\n",
       "      <td>7096.28</td>\n",
       "      <td>4.65994e+09</td>\n",
       "    </tr>\n",
       "    <tr>\n",
       "      <th>3</th>\n",
       "      <td>2018-12-31</td>\n",
       "      <td>3866.84</td>\n",
       "      <td>3868.74</td>\n",
       "      <td>3725.87</td>\n",
       "      <td>3742.7</td>\n",
       "      <td>3742.7</td>\n",
       "      <td>4.66184e+09</td>\n",
       "    </tr>\n",
       "    <tr>\n",
       "      <th>4</th>\n",
       "      <td>2017-08-17</td>\n",
       "      <td>4384.44</td>\n",
       "      <td>4484.7</td>\n",
       "      <td>4243.71</td>\n",
       "      <td>4331.69</td>\n",
       "      <td>4331.69</td>\n",
       "      <td>2.55336e+09</td>\n",
       "    </tr>\n",
       "    <tr>\n",
       "      <th>...</th>\n",
       "      <td>...</td>\n",
       "      <td>...</td>\n",
       "      <td>...</td>\n",
       "      <td>...</td>\n",
       "      <td>...</td>\n",
       "      <td>...</td>\n",
       "      <td>...</td>\n",
       "    </tr>\n",
       "    <tr>\n",
       "      <th>177</th>\n",
       "      <td>2015-10-13</td>\n",
       "      <td>245.2</td>\n",
       "      <td>250.236</td>\n",
       "      <td>243.757</td>\n",
       "      <td>249.508</td>\n",
       "      <td>249.508</td>\n",
       "      <td>2.81985e+07</td>\n",
       "    </tr>\n",
       "    <tr>\n",
       "      <th>178</th>\n",
       "      <td>2018-09-03</td>\n",
       "      <td>7279.03</td>\n",
       "      <td>7317.94</td>\n",
       "      <td>7208.15</td>\n",
       "      <td>7260.06</td>\n",
       "      <td>7260.06</td>\n",
       "      <td>4.08776e+09</td>\n",
       "    </tr>\n",
       "    <tr>\n",
       "      <th>179</th>\n",
       "      <td>2020-08-27</td>\n",
       "      <td>11485.6</td>\n",
       "      <td>11570.8</td>\n",
       "      <td>11185.9</td>\n",
       "      <td>11323.4</td>\n",
       "      <td>11323.4</td>\n",
       "      <td>2.32404e+10</td>\n",
       "    </tr>\n",
       "    <tr>\n",
       "      <th>180</th>\n",
       "      <td>2017-03-26</td>\n",
       "      <td>974.015</td>\n",
       "      <td>1007.96</td>\n",
       "      <td>954.186</td>\n",
       "      <td>966.725</td>\n",
       "      <td>966.725</td>\n",
       "      <td>3.03668e+08</td>\n",
       "    </tr>\n",
       "    <tr>\n",
       "      <th>181</th>\n",
       "      <td>2017-07-16</td>\n",
       "      <td>1991.98</td>\n",
       "      <td>2058.77</td>\n",
       "      <td>1843.03</td>\n",
       "      <td>1929.82</td>\n",
       "      <td>1929.82</td>\n",
       "      <td>1.18287e+09</td>\n",
       "    </tr>\n",
       "  </tbody>\n",
       "</table>\n",
       "<p>182 rows × 7 columns</p>\n",
       "</div>"
      ],
      "text/plain": [
       "           Date     Open     High      Low    Close Adj Close       Volume\n",
       "0    2016-10-27  678.214  688.594   678.04  688.313   688.313  9.61053e+07\n",
       "1    2016-07-07   678.09  682.432  611.834  640.562   640.562  2.58091e+08\n",
       "2    2018-08-28  6891.08  7109.56  6882.34  7096.28   7096.28  4.65994e+09\n",
       "3    2018-12-31  3866.84  3868.74  3725.87   3742.7    3742.7  4.66184e+09\n",
       "4    2017-08-17  4384.44   4484.7  4243.71  4331.69   4331.69  2.55336e+09\n",
       "..          ...      ...      ...      ...      ...       ...          ...\n",
       "177  2015-10-13    245.2  250.236  243.757  249.508   249.508  2.81985e+07\n",
       "178  2018-09-03  7279.03  7317.94  7208.15  7260.06   7260.06  4.08776e+09\n",
       "179  2020-08-27  11485.6  11570.8  11185.9  11323.4   11323.4  2.32404e+10\n",
       "180  2017-03-26  974.015  1007.96  954.186  966.725   966.725  3.03668e+08\n",
       "181  2017-07-16  1991.98  2058.77  1843.03  1929.82   1929.82  1.18287e+09\n",
       "\n",
       "[182 rows x 7 columns]"
      ]
     },
     "execution_count": 17,
     "metadata": {},
     "output_type": "execute_result"
    }
   ],
   "source": [
    "dev_df"
   ]
  },
  {
   "cell_type": "code",
   "execution_count": null,
   "metadata": {},
   "outputs": [],
   "source": []
  }
 ],
 "metadata": {
  "kernelspec": {
   "display_name": "bitcoin_prediction",
   "language": "python",
   "name": "bitcoin_prediction"
  },
  "language_info": {
   "codemirror_mode": {
    "name": "ipython",
    "version": 3
   },
   "file_extension": ".py",
   "mimetype": "text/x-python",
   "name": "python",
   "nbconvert_exporter": "python",
   "pygments_lexer": "ipython3",
   "version": "3.8.2"
  }
 },
 "nbformat": 4,
 "nbformat_minor": 4
}
