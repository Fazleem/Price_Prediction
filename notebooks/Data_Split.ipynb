{
 "cells": [
  {
   "cell_type": "code",
   "execution_count": 1,
   "metadata": {},
   "outputs": [],
   "source": [
    "import pandas as pd\n",
    "import numpy as np"
   ]
  },
  {
   "cell_type": "code",
   "execution_count": 2,
   "metadata": {},
   "outputs": [],
   "source": [
    "train_size = 0.7\n",
    "dev_size = 0.1\n",
    "test_size = 0.2"
   ]
  },
  {
   "cell_type": "code",
   "execution_count": 3,
   "metadata": {},
   "outputs": [],
   "source": [
    "df = pd.read_csv(\"../data/raw/BTC-USD.csv\")"
   ]
  },
  {
   "cell_type": "code",
   "execution_count": 4,
   "metadata": {},
   "outputs": [],
   "source": [
    "df = df.sample(frac=1, random_state=42)"
   ]
  },
  {
   "cell_type": "code",
   "execution_count": 5,
   "metadata": {},
   "outputs": [],
   "source": [
    "data_array = df.values\n",
    "data_shape = data_array.shape\n",
    "# data_shape"
   ]
  },
  {
   "cell_type": "code",
   "execution_count": 6,
   "metadata": {},
   "outputs": [],
   "source": [
    "train_length = round(data_array.shape[0] * train_size)\n",
    "dev_length = round(data_array.shape[0] * dev_size)\n",
    "test_length = round(data_array.shape[0] * test_size)\n",
    "\n",
    "#get the data into arrays\n",
    "train_array = data_array[:train_length]\n",
    "dev_array = data_array[train_length:(train_length + dev_length)]\n",
    "test_array = data_array[(train_length+dev_length):]\n"
   ]
  },
  {
   "cell_type": "code",
   "execution_count": 7,
   "metadata": {},
   "outputs": [],
   "source": [
    "np.save(\"../data/interim/train_data.npy\", train_array)\n",
    "np.save(\"../data/interim/dev_data.npy\", dev_array)\n",
    "np.save(\"../data/interim/test_data.npy\", test_array)\n",
    "\n",
    "#test if data is loaded correctly\n",
    "# sample_test = np.load(\"../data/interim/dev_data.npy\", allow_pickle=True)\n",
    "#sample_test.shape"
   ]
  },
  {
   "cell_type": "code",
   "execution_count": null,
   "metadata": {},
   "outputs": [],
   "source": []
  }
 ],
 "metadata": {
  "kernelspec": {
   "display_name": "Python 3",
   "language": "python",
   "name": "python3"
  },
  "language_info": {
   "codemirror_mode": {
    "name": "ipython",
    "version": 3
   },
   "file_extension": ".py",
   "mimetype": "text/x-python",
   "name": "python",
   "nbconvert_exporter": "python",
   "pygments_lexer": "ipython3",
   "version": "3.8.2"
  }
 },
 "nbformat": 4,
 "nbformat_minor": 4
}
